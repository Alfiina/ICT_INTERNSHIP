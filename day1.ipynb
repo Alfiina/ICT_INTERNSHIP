{
  "nbformat": 4,
  "nbformat_minor": 0,
  "metadata": {
    "colab": {
      "provenance": [],
      "authorship_tag": "ABX9TyOSWcfHwQl8SyipddWGRLcl",
      "include_colab_link": true
    },
    "kernelspec": {
      "name": "python3",
      "display_name": "Python 3"
    },
    "language_info": {
      "name": "python"
    }
  },
  "cells": [
    {
      "cell_type": "markdown",
      "metadata": {
        "id": "view-in-github",
        "colab_type": "text"
      },
      "source": [
        "<a href=\"https://colab.research.google.com/github/Alfiina/ICT_INTERNSHIP/blob/day1/day1.ipynb\" target=\"_parent\"><img src=\"https://colab.research.google.com/assets/colab-badge.svg\" alt=\"Open In Colab\"/></a>"
      ]
    },
    {
      "cell_type": "code",
      "execution_count": null,
      "metadata": {
        "colab": {
          "base_uri": "https://localhost:8080/"
        },
        "id": "GxGMcbIjoO1M",
        "outputId": "d5461f42-9bb0-4621-bd98-e734f1c10e16"
      },
      "outputs": [
        {
          "output_type": "stream",
          "name": "stdout",
          "text": [
            "10\n",
            "20\n",
            "30\n",
            "40\n"
          ]
        }
      ],
      "source": [
        "scores=[10,20,30,40]\n",
        "for score in scores:\n",
        "     print(score)"
      ]
    },
    {
      "cell_type": "code",
      "source": [
        "def function_name(argument):"
      ],
      "metadata": {
        "id": "U-sPQAsDFKAw"
      },
      "execution_count": null,
      "outputs": []
    },
    {
      "cell_type": "code",
      "source": [
        "a=1\n",
        "while a<10:\n",
        "   print(a)\n",
        "   a+=2"
      ],
      "metadata": {
        "colab": {
          "base_uri": "https://localhost:8080/"
        },
        "id": "OnlZxYvHuE4o",
        "outputId": "7c342a63-017e-4a56-bc21-bf88bd37dd13"
      },
      "execution_count": null,
      "outputs": [
        {
          "output_type": "stream",
          "name": "stdout",
          "text": [
            "1\n",
            "3\n",
            "5\n",
            "7\n",
            "9\n"
          ]
        }
      ]
    },
    {
      "cell_type": "code",
      "source": [
        "for val in 'string':\n",
        "  if val== 'i':\n",
        "      continue\n",
        "  print( val)\n"
      ],
      "metadata": {
        "colab": {
          "base_uri": "https://localhost:8080/"
        },
        "id": "70911xCzvmBv",
        "outputId": "80a7d8fc-2e30-4cc5-9209-d86a96c9fae6"
      },
      "execution_count": null,
      "outputs": [
        {
          "output_type": "stream",
          "name": "stdout",
          "text": [
            "s\n",
            "t\n",
            "r\n",
            "n\n",
            "g\n"
          ]
        }
      ]
    },
    {
      "cell_type": "code",
      "source": [
        "a=int(input(\"Enter the number1: \"))\n",
        "b=int(input(\"enter the number2:\"))\n",
        "c=int(input(\"Enter the choice sum=1,sub=2,mul=3,div=4: \"))\n",
        "if c==1:\n",
        "    d=a+b;\n",
        "elif c==2:\n",
        "    d=a-b\n",
        "elif c==3:\n",
        "    d=a*b\n",
        "elif c==4:\n",
        "    d=a/b\n",
        "else:\n",
        "  print(\"error\")\n",
        "print(d)\n",
        "\n"
      ],
      "metadata": {
        "colab": {
          "base_uri": "https://localhost:8080/"
        },
        "id": "K9VU9Sqow94d",
        "outputId": "0f92c884-d634-472a-f487-518181ecc49e"
      },
      "execution_count": null,
      "outputs": [
        {
          "output_type": "stream",
          "name": "stdout",
          "text": [
            "Enter the number1: 10\n",
            "enter the number2:5\n",
            "Enter the choice sum=1,sub=2,mul=3,div=4: 3\n",
            "50\n"
          ]
        }
      ]
    },
    {
      "cell_type": "code",
      "source": [
        "a=int(input(\"Enter the number: \"))\n",
        "if a>1:\n",
        "  for i in range (2,a-1):\n",
        "     if a%i==0:\n",
        "       print(\"number is composit\")\n",
        "       break\n",
        "     else:\n",
        "      print(\"number is prime\")\n",
        "  else:\n",
        "      print(\"number is prime\")\n",
        "\n"
      ],
      "metadata": {
        "colab": {
          "base_uri": "https://localhost:8080/"
        },
        "id": "epneSvW1xcBf",
        "outputId": "8bd1f452-6fae-4599-b5d2-e864f6506da4"
      },
      "execution_count": null,
      "outputs": [
        {
          "output_type": "stream",
          "name": "stdout",
          "text": [
            "Enter the number: 10\n",
            "number is composit\n"
          ]
        }
      ]
    },
    {
      "cell_type": "code",
      "source": [
        "n=int(input(\"Enter the limit \"))\n",
        "\n",
        "sum=0\n",
        "for i in range(0,n+1):\n",
        "   sum=sum+i\n",
        "print(sum)"
      ],
      "metadata": {
        "colab": {
          "base_uri": "https://localhost:8080/"
        },
        "id": "5VfADV50-huG",
        "outputId": "d691430b-c79a-4aa6-9cca-6c086a6a3bfd"
      },
      "execution_count": null,
      "outputs": [
        {
          "output_type": "stream",
          "name": "stdout",
          "text": [
            "Enter the limit 5\n",
            "15\n"
          ]
        }
      ]
    },
    {
      "cell_type": "code",
      "source": [
        "year=int(input(\"Enter the year \"))\n",
        "if year%4!=0:\n",
        "     print(\"year not leap\")\n",
        "else:\n",
        "  if(year%100!=0):\n",
        "    print(\"year not leep\")\n",
        "  else:\n",
        "       if year%400!=0:\n",
        "         print(\"Year not leap\")\n",
        "       else:\n",
        "        print(\"year is leap\")"
      ],
      "metadata": {
        "colab": {
          "base_uri": "https://localhost:8080/"
        },
        "id": "7hn6EU0-8y1P",
        "outputId": "be9b4b6c-34c8-4924-cb8f-6f0a71e96ace"
      },
      "execution_count": null,
      "outputs": [
        {
          "output_type": "stream",
          "name": "stdout",
          "text": [
            "Enter the year4000\n",
            "year is leap\n"
          ]
        }
      ]
    },
    {
      "cell_type": "code",
      "source": [
        "def greet():\n",
        "  print(\"hello\")\n",
        "greet();"
      ],
      "metadata": {
        "colab": {
          "base_uri": "https://localhost:8080/"
        },
        "id": "OkfEIOzfuD3s",
        "outputId": "9f8d0c19-6f05-4985-ee48-af22e54d1ab0"
      },
      "execution_count": null,
      "outputs": [
        {
          "output_type": "stream",
          "name": "stdout",
          "text": [
            "hello\n"
          ]
        }
      ]
    },
    {
      "cell_type": "code",
      "source": [
        "greet()\n"
      ],
      "metadata": {
        "colab": {
          "base_uri": "https://localhost:8080/"
        },
        "id": "Q0UpDrpwFjWW",
        "outputId": "d3d19253-c39f-4b0a-9327-be9d816d766a"
      },
      "execution_count": null,
      "outputs": [
        {
          "output_type": "stream",
          "name": "stdout",
          "text": [
            "hello\n"
          ]
        }
      ]
    },
    {
      "cell_type": "code",
      "source": [
        "def add(a,b):\n",
        "  sum=a+b\n",
        "  print(sum)"
      ],
      "metadata": {
        "id": "a9W8FhJXF8E-"
      },
      "execution_count": null,
      "outputs": []
    },
    {
      "cell_type": "code",
      "source": [
        "add(2,3)"
      ],
      "metadata": {
        "colab": {
          "base_uri": "https://localhost:8080/"
        },
        "id": "tl3hKvA1GGTI",
        "outputId": "4ce2bd87-0172-4faa-d68d-02ab380c01a8"
      },
      "execution_count": null,
      "outputs": [
        {
          "output_type": "stream",
          "name": "stdout",
          "text": [
            "5\n"
          ]
        }
      ]
    },
    {
      "cell_type": "code",
      "source": [
        "numbers = [1, 2, 3, 4, 5]\n",
        "sum = 0\n",
        "for num in numbers:\n",
        "    print(num)\n",
        "    sum += num\n",
        "print(\"The sum of the numbers is:\", sum)"
      ],
      "metadata": {
        "colab": {
          "base_uri": "https://localhost:8080/"
        },
        "id": "kbtxlXnI2Ugi",
        "outputId": "6415a5ed-ac1d-4b83-f4d5-af979d551507"
      },
      "execution_count": null,
      "outputs": [
        {
          "output_type": "stream",
          "name": "stdout",
          "text": [
            "1\n",
            "2\n",
            "3\n",
            "4\n",
            "5\n",
            "The sum of the numbers is: 15\n"
          ]
        }
      ]
    },
    {
      "cell_type": "code",
      "source": [
        "a=input('Enter the Sentence:- ')\n",
        "print(\"The String is\",a)\n",
        "p=len(a)\n",
        "print(\"the length of the string is\",p)\n",
        "if p % 2 == 0:\n",
        "    print(a[0:p//2])\n",
        "else:\n",
        "    print(\"the first half is: \",a[0:(p+1)//2])"
      ],
      "metadata": {
        "colab": {
          "base_uri": "https://localhost:8080/"
        },
        "id": "hHWAVlKm2cSJ",
        "outputId": "2f68d30b-3d48-4609-ad99-bf282da42236"
      },
      "execution_count": null,
      "outputs": [
        {
          "output_type": "stream",
          "name": "stdout",
          "text": [
            "Enter the Sentence:- alfina\n",
            "The String is alfina\n",
            "the length of the string is 6\n",
            "alf\n"
          ]
        }
      ]
    },
    {
      "cell_type": "code",
      "source": [],
      "metadata": {
        "id": "JnKFG7gJ2knO"
      },
      "execution_count": null,
      "outputs": []
    },
    {
      "cell_type": "code",
      "source": [
        "a=input('Enter the Sentence1:- ')\n",
        "b=input('Enter the Sentence2:- ')\n",
        "c=a+b\n",
        "print(c)\n",
        "print(len(c))"
      ],
      "metadata": {
        "colab": {
          "base_uri": "https://localhost:8080/"
        },
        "id": "pkr5bCZSM--H",
        "outputId": "a91e71ba-7361-4fe5-cbd8-2ce52b58fc1c"
      },
      "execution_count": null,
      "outputs": [
        {
          "output_type": "stream",
          "name": "stdout",
          "text": [
            "Enter the Sentence1:- alfina\n",
            "Enter the Sentence2:- noushad\n",
            "alfinanoushad\n",
            "13\n"
          ]
        }
      ]
    },
    {
      "cell_type": "code",
      "source": [],
      "metadata": {
        "id": "j45qbAnl2ual"
      },
      "execution_count": null,
      "outputs": []
    },
    {
      "cell_type": "code",
      "source": [
        "t = (78, 45, 32, 19, 82, 77, 40, 39)\n",
        "print(\"Original tuple:\", t)\n",
        "m = t[0:2] + (100,) + t[3:len(t)]\n",
        "print(\"Modified tuple:\", m)"
      ],
      "metadata": {
        "colab": {
          "base_uri": "https://localhost:8080/"
        },
        "id": "bjjkwFke2wJS",
        "outputId": "75f08155-c747-44c0-b86f-10797494bd05"
      },
      "execution_count": null,
      "outputs": [
        {
          "output_type": "stream",
          "name": "stdout",
          "text": [
            "Original tuple: (78, 45, 32, 19, 82, 77, 40, 39)\n",
            "Modified tuple: (78, 45, 100, 19, 82, 77, 40, 39)\n"
          ]
        }
      ]
    },
    {
      "cell_type": "code",
      "source": [
        "lstA = [19, 32, 10, 55, 31, 32, 94, 29, 10, 65, 77, 40, 40]\n",
        "\n",
        "# (a) delete first occurrence of 32\n",
        "for i in range(len(lstA)):\n",
        "    if lstA[i] == 32:\n",
        "        del lstA[i]\n",
        "        break\n",
        "\n",
        "print(\"List after deleting first occurrence of 32:\", lstA)\n",
        "\n",
        "# (b) delete all occurrences of 40\n",
        "for i in range(len(lstA)):\n",
        "    if lstA[i] == '40':\n",
        "        del lstA[i]\n",
        "        i -= 1\n",
        "\n",
        "print(\"List after deleting all occurrences of 40:\", lstA)\n",
        "\n",
        "# (c) delete value at index 5\n",
        "del lstA[5]\n",
        "print(\"List after deleting value at index 5:\", lstA)\n",
        "\n",
        "# (d) modify the value at index 9 to 300\n",
        "lstA[9] = 300\n",
        "print(\"List after modifying value at index 9 to 300:\", lstA)\n",
        "\n",
        "# (e) add 200 at index 2\n",
        "lstA = lstA[:2] + [200] + lstA[2:]\n",
        "print(\"List after adding 200 at index 2:\", lstA)\n",
        "\n",
        "# (f) print the final list with its length, maximum value, and sum of all elements\n",
        "print(\"Final list:\", lstA)\n",
        "print(\"Length of list:\", len(lstA))\n",
        "p=lstA[1]\n",
        "for i in range(2,len(lstA)):\n",
        "    if p<lstA[i]:\n",
        "      p=lstA[i]\n",
        "\n",
        "print(\"Maximum value of list:\", p)\n",
        "s=0\n",
        "for i in range(len(lstA)):\n",
        "  s=s+lstA[i]\n",
        "print(\"Sum of all elements in list:\",s)\n"
      ],
      "metadata": {
        "colab": {
          "base_uri": "https://localhost:8080/"
        },
        "id": "A5QVyAeL3M1_",
        "outputId": "b21b798c-527d-454b-94eb-c284944020af"
      },
      "execution_count": null,
      "outputs": [
        {
          "output_type": "stream",
          "name": "stdout",
          "text": [
            "List after deleting first occurrence of 32: [19, 10, 55, 31, 32, 94, 29, 10, 65, 77, 40, 40]\n",
            "List after deleting all occurrences of 40: [19, 10, 55, 31, 32, 94, 29, 10, 65, 77, 40, 40]\n",
            "List after deleting value at index 5: [19, 10, 55, 31, 32, 29, 10, 65, 77, 40, 40]\n",
            "List after modifying value at index 9 to 300: [19, 10, 55, 31, 32, 29, 10, 65, 77, 300, 40]\n",
            "List after adding 200 at index 2: [19, 10, 200, 55, 31, 32, 29, 10, 65, 77, 300, 40]\n",
            "Final list: [19, 10, 200, 55, 31, 32, 29, 10, 65, 77, 300, 40]\n",
            "Length of list: 12\n",
            "Maximum value of list: 300\n",
            "Sum of all elements in list: 868\n"
          ]
        }
      ]
    }
  ]
}