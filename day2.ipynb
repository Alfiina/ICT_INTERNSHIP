{
  "nbformat": 4,
  "nbformat_minor": 0,
  "metadata": {
    "colab": {
      "provenance": [],
      "include_colab_link": true
    },
    "kernelspec": {
      "name": "python3",
      "display_name": "Python 3"
    },
    "language_info": {
      "name": "python"
    }
  },
  "cells": [
    {
      "cell_type": "markdown",
      "metadata": {
        "id": "view-in-github",
        "colab_type": "text"
      },
      "source": [
        "<a href=\"https://colab.research.google.com/github/Alfiina/ICT_INTERNSHIP/blob/day2/day2.ipynb\" target=\"_parent\"><img src=\"https://colab.research.google.com/assets/colab-badge.svg\" alt=\"Open In Colab\"/></a>"
      ]
    },
    {
      "cell_type": "markdown",
      "source": [
        "**OOPS**"
      ],
      "metadata": {
        "id": "KpTxhrFmC845"
      }
    },
    {
      "cell_type": "code",
      "source": [],
      "metadata": {
        "id": "OEMz31mI45Jr"
      },
      "execution_count": null,
      "outputs": []
    },
    {
      "cell_type": "code",
      "source": [
        "class student():\n",
        "  def __init__(self,name,rollno,mark):\n",
        "    self.name=name\n",
        "    self.rollno=rollno\n",
        "    self.mark=mark\n"
      ],
      "metadata": {
        "id": "h7DAZdciDA0R"
      },
      "execution_count": null,
      "outputs": []
    },
    {
      "cell_type": "code",
      "source": [
        "students1=student('alfina',11,10)"
      ],
      "metadata": {
        "id": "tW_d-IkeEE65"
      },
      "execution_count": null,
      "outputs": []
    },
    {
      "cell_type": "code",
      "source": [
        "students1.rollno"
      ],
      "metadata": {
        "colab": {
          "base_uri": "https://localhost:8080/"
        },
        "id": "-0tAJu9FEUtM",
        "outputId": "e2ba3b57-0553-4ed7-b7c0-893005c5cba9"
      },
      "execution_count": null,
      "outputs": [
        {
          "output_type": "execute_result",
          "data": {
            "text/plain": [
              "11"
            ]
          },
          "metadata": {},
          "execution_count": 16
        }
      ]
    },
    {
      "cell_type": "code",
      "source": [
        "class animal():\n",
        "  def __init__(dog,name,color,breed):\n",
        "    dog.name=name\n",
        "    dog.color=color\n",
        "    dog.breed=breed"
      ],
      "metadata": {
        "id": "7dJd53AsFOG6"
      },
      "execution_count": null,
      "outputs": []
    },
    {
      "cell_type": "code",
      "source": [
        "animald1=animal('TOM','white','husky')"
      ],
      "metadata": {
        "id": "nlNeL3OpF4zp"
      },
      "execution_count": null,
      "outputs": []
    },
    {
      "cell_type": "code",
      "source": [
        "animald1.breed"
      ],
      "metadata": {
        "colab": {
          "base_uri": "https://localhost:8080/",
          "height": 36
        },
        "id": "FoQbuqfDGL7F",
        "outputId": "0fc9da0e-6b0c-4060-ff46-f2beefbd0b97"
      },
      "execution_count": null,
      "outputs": [
        {
          "output_type": "execute_result",
          "data": {
            "text/plain": [
              "'husky'"
            ],
            "application/vnd.google.colaboratory.intrinsic+json": {
              "type": "string"
            }
          },
          "metadata": {},
          "execution_count": 19
        }
      ]
    },
    {
      "cell_type": "code",
      "source": [
        "animald1.name"
      ],
      "metadata": {
        "colab": {
          "base_uri": "https://localhost:8080/",
          "height": 36
        },
        "id": "j80Tx8AbGeOi",
        "outputId": "0ea0e200-9de6-413c-fc22-8d5abfa6aa01"
      },
      "execution_count": null,
      "outputs": [
        {
          "output_type": "execute_result",
          "data": {
            "text/plain": [
              "'TOM'"
            ],
            "application/vnd.google.colaboratory.intrinsic+json": {
              "type": "string"
            }
          },
          "metadata": {},
          "execution_count": 20
        }
      ]
    },
    {
      "cell_type": "code",
      "source": [
        "class student():\n",
        "  def __init__(self,name,rollno,mark):\n",
        "    self.name=name\n",
        "    self.rollno=rollno\n",
        "    self.mark=mark\n",
        "\n",
        "  def result(self):\n",
        "    if self.mark>40:\n",
        "      return 'pass'\n",
        "    else:\n",
        "      return 'fail'"
      ],
      "metadata": {
        "id": "Bwq7vK-MHesi"
      },
      "execution_count": null,
      "outputs": []
    },
    {
      "cell_type": "code",
      "source": [
        "s1=student('anu',10,100)\n",
        "s2=student('arun',11,30)\n",
        "s3=student('ali',12,50)\n",
        "s4=student('anu',13,40)\n"
      ],
      "metadata": {
        "id": "e2l8GN2tIgp_"
      },
      "execution_count": null,
      "outputs": []
    },
    {
      "cell_type": "code",
      "source": [
        "st=[s1,s2,s3,s4]"
      ],
      "metadata": {
        "id": "FBwliarTI8gT"
      },
      "execution_count": null,
      "outputs": []
    },
    {
      "cell_type": "code",
      "source": [
        "passs=[]\n",
        "fail=[]\n",
        "sort_list={}\n",
        "for x in st:\n",
        "  if x.result()=='pass':\n",
        "   passs.append(x.name)\n",
        "   sort_list['passs']=passs\n",
        "  else:\n",
        "    fail.append(x.name)\n",
        "    sort_list['fail']=fail"
      ],
      "metadata": {
        "id": "n0ZXmBpIMxmj"
      },
      "execution_count": null,
      "outputs": []
    },
    {
      "cell_type": "code",
      "source": [
        "print(passs)\n",
        "print(fail)"
      ],
      "metadata": {
        "colab": {
          "base_uri": "https://localhost:8080/"
        },
        "id": "OosQsimAQVRj",
        "outputId": "127d1a27-c376-4503-9147-1fa9014b2e9c"
      },
      "execution_count": null,
      "outputs": [
        {
          "output_type": "stream",
          "name": "stdout",
          "text": [
            "['anu', 'ali']\n",
            "['arun', 'anu']\n"
          ]
        }
      ]
    },
    {
      "cell_type": "code",
      "source": [
        "class circle():\n",
        "  def __init__(self,radius):\n",
        "    self.radius=radius\n",
        "\n",
        "  def peremeter(self):\n",
        "        return(2*3.14*self.radius)\n",
        "        \n",
        "        \n",
        "  def area(self):\n",
        "        return(3.14*self.radius*self.radius)\n",
        "rad=int(input(\"enter the radius\"))\n",
        "c=circle(rad)\n",
        "print(c.area())\n",
        "print(c.peremeter())\n",
        "        "
      ],
      "metadata": {
        "colab": {
          "base_uri": "https://localhost:8080/"
        },
        "id": "xshGYnAnTwaG",
        "outputId": "5292452a-8984-4e26-af30-9ec1b175ee45"
      },
      "execution_count": null,
      "outputs": [
        {
          "output_type": "stream",
          "name": "stdout",
          "text": [
            "enter the radius10\n",
            "314.0\n",
            "62.800000000000004\n"
          ]
        }
      ]
    },
    {
      "cell_type": "code",
      "source": [
        "class circle():\n",
        "  def __init__(self,radius):\n",
        "    self.radius=radius\n",
        "\n",
        "  def peremeter(self):\n",
        "        return(2*3.14*self.radius)\n",
        "        \n",
        "        \n",
        "  def area(self):\n",
        "        return(3.14*self.radius*self.radius)\n",
        "c=circle(10)\n",
        "print(c.area())\n",
        "print(c.peremeter())     "
      ],
      "metadata": {
        "colab": {
          "base_uri": "https://localhost:8080/"
        },
        "id": "9kj3-PpHZDiy",
        "outputId": "7f18dde2-0f1f-44e0-e310-f573eb6e956e"
      },
      "execution_count": null,
      "outputs": [
        {
          "output_type": "stream",
          "name": "stdout",
          "text": [
            "314.0\n",
            "62.800000000000004\n"
          ]
        }
      ]
    },
    {
      "cell_type": "markdown",
      "source": [
        "ASSIGNMENT **DAY2**"
      ],
      "metadata": {
        "id": "eSDT6mQHv9Xd"
      }
    },
    {
      "cell_type": "markdown",
      "source": [
        "Q-*1*"
      ],
      "metadata": {
        "id": "1ZWTVHmX3Nzp"
      }
    },
    {
      "cell_type": "code",
      "source": [
        "list=['banana','orange','mango','lemon']\n",
        "reverse=[]\n",
        "for i in range(len(list)-1,-1,-1):\n",
        "  reverse.append(list[i])\n",
        "print(reverse)"
      ],
      "metadata": {
        "colab": {
          "base_uri": "https://localhost:8080/"
        },
        "id": "DnY0HTyGwFiI",
        "outputId": "e39fdbf8-2346-43d1-b534-2751ae167ca9"
      },
      "execution_count": null,
      "outputs": [
        {
          "output_type": "stream",
          "name": "stdout",
          "text": [
            "['lemon', 'mango', 'orange', 'banana']\n"
          ]
        }
      ]
    },
    {
      "cell_type": "markdown",
      "source": [
        "Q-*2*"
      ],
      "metadata": {
        "id": "wLtjZQN53SvQ"
      }
    },
    {
      "cell_type": "code",
      "source": [
        "num = 10\n",
        "n1, n2 = 0, 1\n",
        "print(\"Fibonacci Series:\", n1, n2, end=\" \")\n",
        "for i in range(2, num):\n",
        "    n3 = n1 + n2\n",
        "    n1 = n2\n",
        "    n2 = n3\n",
        "    print(n3, end=\" \")\n",
        "\n",
        "print()"
      ],
      "metadata": {
        "colab": {
          "base_uri": "https://localhost:8080/"
        },
        "id": "-epFrI2Sx2rC",
        "outputId": "c8c4faed-9994-453f-e772-b5d375a129c0"
      },
      "execution_count": null,
      "outputs": [
        {
          "output_type": "stream",
          "name": "stdout",
          "text": [
            "Fibonacci Series: 0 1 1 2 3 5 8 13 21 34 \n"
          ]
        }
      ]
    },
    {
      "cell_type": "markdown",
      "source": [
        "Q-*3*"
      ],
      "metadata": {
        "id": "GWxZJ9PB3Wb9"
      }
    },
    {
      "cell_type": "code",
      "source": [
        "n=0\n",
        "for i in range(2,101): \n",
        "    for j in range(2,101):\n",
        "        if i%j == 0:\n",
        "            break\n",
        "    if i == j:\n",
        "        n=n+1\n",
        "        print(i,end=\",\")\n",
        "print(\"\\nnumber of prime numbers is \",n)       \n"
      ],
      "metadata": {
        "colab": {
          "base_uri": "https://localhost:8080/"
        },
        "id": "vkgUDYDkyG43",
        "outputId": "ebc14035-9864-431b-b59b-7fe3d8977f65"
      },
      "execution_count": null,
      "outputs": [
        {
          "output_type": "stream",
          "name": "stdout",
          "text": [
            "2,3,5,7,11,13,17,19,23,29,31,37,41,43,47,53,59,61,67,71,73,79,83,89,97,\n",
            "number of prime numbers is  25\n"
          ]
        }
      ]
    },
    {
      "cell_type": "markdown",
      "source": [
        "Q-*4*"
      ],
      "metadata": {
        "id": "NgUCh88q3Z_T"
      }
    },
    {
      "cell_type": "code",
      "source": [
        "n=int(input(\"enter the number\" ))\n",
        "if(n%2==0):\n",
        "     print(n**2)\n",
        "else:\n",
        "     print(n**3)"
      ],
      "metadata": {
        "colab": {
          "base_uri": "https://localhost:8080/"
        },
        "id": "CI9zB0Kwyy9Z",
        "outputId": "09800452-649e-460c-de68-cd10516e027b"
      },
      "execution_count": null,
      "outputs": [
        {
          "output_type": "stream",
          "name": "stdout",
          "text": [
            "enter the number3\n",
            "27\n"
          ]
        }
      ]
    },
    {
      "cell_type": "markdown",
      "source": [
        "Q-*5*"
      ],
      "metadata": {
        "id": "KkqGyNJG3du5"
      }
    },
    {
      "cell_type": "code",
      "source": [
        "words = input(\"Enter a sequence of words: \").split()\n",
        "longest_word = \"\"\n",
        "\n",
        "for word in words:\n",
        "    if len(word) > len(longest_word):\n",
        "        longest_word = word\n",
        "\n",
        "print(\"The longest word is:\", longest_word)"
      ],
      "metadata": {
        "colab": {
          "base_uri": "https://localhost:8080/"
        },
        "id": "y1UENkRTzDye",
        "outputId": "9fde30ed-7cdf-4ff5-a13e-0c089b82cd7c"
      },
      "execution_count": null,
      "outputs": [
        {
          "output_type": "stream",
          "name": "stdout",
          "text": [
            "Enter a sequence of words: my name is anu\n",
            "The longest word is: name\n"
          ]
        }
      ]
    },
    {
      "cell_type": "markdown",
      "source": [
        "Q-6"
      ],
      "metadata": {
        "id": "qua3wsHS3iGD"
      }
    },
    {
      "cell_type": "code",
      "source": [
        "i=0\n",
        "total = 0\n",
        "list=[3,4,5,6,7]\n",
        "while i<len(list):\n",
        "    total=total+list[i]\n",
        "    i += 1\n",
        "\n",
        "average = total / 5\n",
        "print(\"The average of the 5 numbers is:\", average) \n"
      ],
      "metadata": {
        "colab": {
          "base_uri": "https://localhost:8080/"
        },
        "id": "yvM2Eq80zTb0",
        "outputId": "4fd3e56f-db6b-434a-870c-0bcdec7bb8d7"
      },
      "execution_count": null,
      "outputs": [
        {
          "output_type": "stream",
          "name": "stdout",
          "text": [
            "The average of the 5 numbers is: 5.0\n"
          ]
        }
      ]
    },
    {
      "cell_type": "markdown",
      "source": [
        "Q-*7*"
      ],
      "metadata": {
        "id": "9hlPRqQ73kLY"
      }
    },
    {
      "cell_type": "code",
      "source": [
        "num = int(input(\"Enter an integer: \")) \n",
        "sum = 0\n",
        "remainder = 0\n",
        "while num > 0:\n",
        "    remainder = num % 10 \n",
        "    sum=sum+remainder   \n",
        "    num //= 10 \n",
        "print(\"The sum of digits is:\", sum)\n"
      ],
      "metadata": {
        "colab": {
          "base_uri": "https://localhost:8080/"
        },
        "id": "zldvHkrx0n8v",
        "outputId": "60a6da51-8b56-462d-c6ec-14134b047df3"
      },
      "execution_count": null,
      "outputs": [
        {
          "output_type": "stream",
          "name": "stdout",
          "text": [
            "Enter an integer: 37\n",
            "The sum of digits is: 10\n"
          ]
        }
      ]
    },
    {
      "cell_type": "markdown",
      "source": [
        "Q-*9*"
      ],
      "metadata": {
        "id": "9REscYD13n4o"
      }
    },
    {
      "cell_type": "code",
      "source": [
        "year=int(input(\"Enter the year \"))\n",
        "if year%4!=0:\n",
        "     print(\"year not leap\")\n",
        "else:\n",
        "  if(year%100!=0):\n",
        "    print(\"year not leep\")\n",
        "  else:\n",
        "       if year%400!=0:\n",
        "         print(\"Year not leap\")\n",
        "       else:\n",
        "        print(\"year is leap\")"
      ],
      "metadata": {
        "colab": {
          "base_uri": "https://localhost:8080/"
        },
        "id": "VcQoxsSm1BEB",
        "outputId": "733e61f6-a3eb-4ed1-b539-7824ce437937"
      },
      "execution_count": null,
      "outputs": [
        {
          "output_type": "stream",
          "name": "stdout",
          "text": [
            "Enter the year 2034\n",
            "year not leap\n"
          ]
        }
      ]
    },
    {
      "cell_type": "markdown",
      "source": [
        "Q-*9*"
      ],
      "metadata": {
        "id": "zwoCSFzF3qr1"
      }
    },
    {
      "cell_type": "code",
      "source": [
        "year=int(input(\"Enter the year \"))\n",
        "if year%4!=0:\n",
        "     print(\"year not leap\")\n",
        "else:\n",
        "  if(year%100!=0):\n",
        "    print(\"year not leap\")\n",
        "  else:\n",
        "       if year%400!=0:\n",
        "         print(\"Year not leap\")\n",
        "       else:\n",
        "        print(\"year is leap\")"
      ],
      "metadata": {
        "colab": {
          "base_uri": "https://localhost:8080/"
        },
        "id": "JBtVVCjP1eDv",
        "outputId": "28c94b9e-4533-4e83-cfa7-bd9c82bdd01b"
      },
      "execution_count": null,
      "outputs": [
        {
          "output_type": "stream",
          "name": "stdout",
          "text": [
            "Enter the year 2048\n",
            "year not leep\n"
          ]
        }
      ]
    },
    {
      "cell_type": "markdown",
      "source": [
        "Q-*8*"
      ],
      "metadata": {
        "id": "EuH5cU-f8tFj"
      }
    },
    {
      "cell_type": "code",
      "source": [
        "principal = float(input(\"Enter the principal value: \"))\n",
        "rate = float(input(\"Enter the rate of interest: \"))\n",
        "years = int(input(\"Enter the number of years: \"))\n",
        "\n",
        "for year in range(1, years+1):\n",
        "    interest = principal * rate * year\n",
        "    amount = principal + interest\n",
        "    print(f\"Year :\",year)\n",
        "    print(f\"Interest = \",interest)\n",
        "    print(f\"Amount = \",amount)"
      ],
      "metadata": {
        "colab": {
          "base_uri": "https://localhost:8080/"
        },
        "id": "pyPvnZlu8fdI",
        "outputId": "09c1acea-f968-4a8f-dd05-d3aea4f07952"
      },
      "execution_count": null,
      "outputs": [
        {
          "output_type": "stream",
          "name": "stdout",
          "text": [
            "Enter the principal value: 100000\n",
            "Enter the rate of interest: 0.05\n",
            "Enter the number of years: 5\n",
            "Year : 1\n",
            "Interest =  5000.0\n",
            "Amount =  105000.0\n",
            "Year : 2\n",
            "Interest =  10000.0\n",
            "Amount =  110000.0\n",
            "Year : 3\n",
            "Interest =  15000.0\n",
            "Amount =  115000.0\n",
            "Year : 4\n",
            "Interest =  20000.0\n",
            "Amount =  120000.0\n",
            "Year : 5\n",
            "Interest =  25000.0\n",
            "Amount =  125000.0\n"
          ]
        }
      ]
    },
    {
      "cell_type": "code",
      "source": [
        "principal = 100000\n",
        "rate =0.05\n",
        "years = 5\n",
        "\n",
        "for year in range(1, years+1):\n",
        "    interest = principal * rate * year\n",
        "    amount = principal + interest\n",
        "    print(f\"Year :\",year)\n",
        "    print(f\"Interest = \",interest)\n",
        "    print(f\"Amount = \",amount)"
      ],
      "metadata": {
        "colab": {
          "base_uri": "https://localhost:8080/"
        },
        "id": "OWN5JvGR9OAn",
        "outputId": "d5f6416f-8d74-4226-bb51-44b40d86e5f3"
      },
      "execution_count": null,
      "outputs": [
        {
          "output_type": "stream",
          "name": "stdout",
          "text": [
            "Year : 1\n",
            "Interest =  5000.0\n",
            "Amount =  105000.0\n",
            "Year : 2\n",
            "Interest =  10000.0\n",
            "Amount =  110000.0\n",
            "Year : 3\n",
            "Interest =  15000.0\n",
            "Amount =  115000.0\n",
            "Year : 4\n",
            "Interest =  20000.0\n",
            "Amount =  120000.0\n",
            "Year : 5\n",
            "Interest =  25000.0\n",
            "Amount =  125000.0\n"
          ]
        }
      ]
    },
    {
      "cell_type": "markdown",
      "source": [],
      "metadata": {
        "id": "VGYOPxtL1Iyj"
      }
    }
  ]
}